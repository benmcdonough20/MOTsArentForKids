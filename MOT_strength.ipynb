{
 "cells": [
  {
   "attachments": {},
   "cell_type": "markdown",
   "metadata": {},
   "source": [
    "# MOT strength\n",
    "30 repeats at MOT voltage (V) = 2.5, 3.33, 4.16, 4.99. Image starts at 41"
   ]
  },
  {
   "cell_type": "code",
   "execution_count": null,
   "metadata": {},
   "outputs": [],
   "source": [
    "import os\n",
    "import datarun\n",
    "import numpy as np\n",
    "from scipy.optimize import curve_fit\n",
    "from matplotlib import pyplot as plt"
   ]
  },
  {
   "cell_type": "code",
   "execution_count": null,
   "metadata": {},
   "outputs": [],
   "source": [
    "d = datarun.Experiment(\n",
    "    vstart = 2.5,\n",
    "    vend = 4.99,\n",
    "    vstep = 0.83, \n",
    "    idx_start = 41,\n",
    "    datapath = os.path.join(os.getcwd(),'mar28'),\n",
    "    numtrials = 30,\n",
    "    mask=0.25\n",
    ")"
   ]
  },
  {
   "cell_type": "code",
   "execution_count": null,
   "metadata": {},
   "outputs": [],
   "source": [
    "data = d.structure_data()\n",
    "keys=list(data.keys())\n",
    "for datum in data[keys[0]]:\n",
    "    datum.plot_fit()"
   ]
  },
  {
   "cell_type": "code",
   "execution_count": null,
   "metadata": {},
   "outputs": [],
   "source": [
    "# sigma_times = d.structure_data(lambda d : d.popt_y[2]**2)\n",
    "sigma_times = d.structure_data(lambda d : d.atom_number())\n",
    "removed_count = 0\n",
    "for key in sigma_times:\n",
    "    sigma = np.std(sigma_times[key]) \n",
    "    mean = np.mean(sigma_times[key])\n",
    "    for val in sigma_times[key]:\n",
    "        if np.abs(val-mean) > 2*sigma:\n",
    "            sigma_times[key].remove(val)\n",
    "            print(key, val)\n",
    "\n",
    "means = [np.mean(arr) for arr in sigma_times.values()]\n",
    "errs = [np.std(arr) for arr in sigma_times.values()]\n",
    "time_list = np.array(list(sigma_times.keys()))\n",
    "popt, pcov = curve_fit(lambda x,a:a*np.sqrt(x), d.vlist, means, sigma=errs)\n",
    "print(popt)\n",
    "verr=np.sqrt(pcov[0][0])\n",
    "verr"
   ]
  },
  {
   "cell_type": "code",
   "execution_count": null,
   "metadata": {},
   "outputs": [],
   "source": [
    "plt.errorbar(np.array(list((sigma_times.keys()))), np.array(means), yerr = np.array(errs), linestyle = \"None\", c = 'r', capsize=10, marker = \"x\", label = \"expt.\")\n",
    "for time, arr in sigma_times.items():\n",
    "    for val in arr:\n",
    "        plt.scatter(time, val, c=\"k\", marker = \".\")\n",
    "\n",
    "xaxis = np.linspace(min(d.vlist), max(d.vlist), 100)\n",
    "# plt.plot(xaxis**2, (popt[0]*xaxis**2+popt[1]), c=\"b\", label = r\"$\\langle v_x^2\\rangle t^2+\\sigma_x^2(0)$\")\n",
    "\n",
    "plt.xlabel(r\"$|A|$ (arb. u)\")\n",
    "plt.ylabel(r\"$N$ (dim.)\")\n",
    "plt.gcf().set_dpi(300)\n",
    "plt.legend(loc='upper right')"
   ]
  },
  {
   "attachments": {},
   "cell_type": "markdown",
   "metadata": {},
   "source": [
    "## Expected size of blob"
   ]
  },
  {
   "cell_type": "code",
   "execution_count": null,
   "metadata": {},
   "outputs": [],
   "source": [
    "#rms radius of 7 coils. Scaled from mm to m\n",
    "a=np.sqrt(np.mean(np.square(np.arange(45.1,70.2,(70.2-50.1)/6))))*1e-3\n",
    "n=35\n",
    "I=5.39\n",
    "#approximate d. should measure this directly\n",
    "d=1.25*a\n",
    "#calculate field gradient in T/m. Multiply by 100 to get G/cm (conventional units)\n",
    "u0=4*np.pi*1e-7\n",
    "def calc_A(a,n,I,d,u0):\n",
    "    return 48*a**2*d*u0*I*n/(4*a**2+d**2)**2.5\n",
    "\n",
    "lambd=766.5*1e-9\n",
    "hbar=1.054571817*1e-34\n",
    "gamma=1/(26.375*1e-9)\n",
    "I_sat=2*(np.pi)**2*hbar*299792458*gamma/(3*lambd**3)\n",
    "\n",
    "A=calc_A(a,n,I,d,u0)\n"
   ]
  },
  {
   "cell_type": "code",
   "execution_count": null,
   "metadata": {},
   "outputs": [],
   "source": []
  }
 ],
 "metadata": {
  "kernelspec": {
   "display_name": "qiskit_env",
   "language": "python",
   "name": "python3"
  },
  "language_info": {
   "codemirror_mode": {
    "name": "ipython",
    "version": 3
   },
   "file_extension": ".py",
   "mimetype": "text/x-python",
   "name": "python",
   "nbconvert_exporter": "python",
   "pygments_lexer": "ipython3",
   "version": "3.8.10"
  },
  "orig_nbformat": 4
 },
 "nbformat": 4,
 "nbformat_minor": 2
}
