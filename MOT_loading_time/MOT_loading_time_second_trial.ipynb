{
 "cells": [
  {
   "attachments": {},
   "cell_type": "markdown",
   "metadata": {},
   "source": [
    "# Easy data processing\n",
    "Using the `Experiment` and `DataRun` class to generalize processing data. General usage:\n",
    "\n",
    "1. Create an `Experiment`\n",
    "2. Use the `structured_data` method to extract the parameter of interest\n",
    "3. Plot"
   ]
  },
  {
   "cell_type": "code",
   "execution_count": 2,
   "metadata": {},
   "outputs": [],
   "source": [
    "import sys\n",
    "sys.path.append(\"../\")\n",
    "import datarun\n",
    "from matplotlib import pyplot as plt\n",
    "import numpy as np\n",
    "import os\n",
    "from scipy.optimize import curve_fit"
   ]
  },
  {
   "cell_type": "code",
   "execution_count": 3,
   "metadata": {},
   "outputs": [
    {
     "data": {
      "text/plain": [
       "<module 'datarun' from '/home/ben/Documents/Repos/MOTsArentForKids/MOT_loading_time/../datarun.py'>"
      ]
     },
     "execution_count": 3,
     "metadata": {},
     "output_type": "execute_result"
    }
   ],
   "source": [
    "#If you make a change to datarun.py, run this cell or restart your kernel\n",
    "import importlib\n",
    "importlib.reload(datarun)"
   ]
  },
  {
   "cell_type": "code",
   "execution_count": 4,
   "metadata": {},
   "outputs": [
    {
     "name": "stdout",
     "output_type": "stream",
     "text": [
      "|████████████████████████████████████████| 80/80 [100%] in 5:09.0 (0.26/s)      \n"
     ]
    }
   ],
   "source": [
    "d = datarun.Experiment(\n",
    "    vlist = [10,20,40,60,80],\n",
    "    idx_start = 164,\n",
    "    datapath = \"../data/mar30/load_time/\",\n",
    "    numtrials = 16,\n",
    "    mask = .20\n",
    ")"
   ]
  },
  {
   "cell_type": "code",
   "execution_count": 23,
   "metadata": {},
   "outputs": [],
   "source": [
    "def loading_dyn(x,a,b):\n",
    "    return a/b*(1-np.exp(-x*b))\n"
   ]
  },
  {
   "cell_type": "code",
   "execution_count": 40,
   "metadata": {},
   "outputs": [
    {
     "name": "stdout",
     "output_type": "stream",
     "text": [
      "removed\n",
      "removed\n",
      "removed\n",
      "removed\n"
     ]
    }
   ],
   "source": [
    "N_list = d.structure_data(lambda d: d.atom_number_px_sum())\n",
    "yerr = [np.nanstd(arr) for arr in N_list.values()]/np.sqrt(16)\n",
    "means = [np.mean(arr) for arr in N_list.values()]\n",
    "\n",
    "\n",
    "for arr in N_list.values():\n",
    "    mean = np.mean(arr)\n",
    "    std = np.std(arr)\n",
    "\n",
    "    for val in arr:\n",
    "        if np.abs(val-mean) > 2*std:\n",
    "            arr.remove(val)\n",
    "            print(\"removed\")\n",
    "\n",
    "popt,pcov=curve_fit(loading_dyn, d.vlist, means, p0 = (1e8,1e-1), sigma=yerr, absolute_sigma=True)\n",
    "ratio = popt[0]/popt[1]"
   ]
  },
  {
   "cell_type": "code",
   "execution_count": 50,
   "metadata": {},
   "outputs": [
    {
     "data": {
      "image/png": "[encoded data removed]",
      "text/plain": [
       "<Figure size 640x480 with 1 Axes>"
      ]
     },
     "metadata": {},
     "output_type": "display_data"
    }
   ],
   "source": [
    "xdata=np.linspace(min(x_plot),max(x_plot),1000)\n",
    "\n",
    "def yax(yval):\n",
    "    return ratio-yval\n",
    "\n",
    "plt.plot(xdata, yax(loading_dyn(xdata,*popt)),'-b', label = r\"$\\frac{k_1}{k_2}(1-e^{-P_Kk_2})$\")\n",
    "\n",
    "plt.errorbar(d.vlist, yax(np.array(means)), yerr, linestyle = \"None\", color = \"r\", marker = \"x\", label = \"expt.\")\n",
    "#for datum in d.data:\n",
    "    #plt.scatter(datum.value, yax(datum.atom_number_px_sum()), color = \"k\", marker = '.', linestyle = \"None\", alpha = .2)\n",
    "\n",
    "plt.xlabel(r\"$t (ms)$\")\n",
    "plt.ylabel(r\"$k_1/k_2-N$\")\n",
    "plt.legend(loc=\"upper right\")\n",
    "plt.yscale(\"log\")\n",
    "plt.savefig(\"../figures/loading_time_take_2.png\", dpi=200)"
   ]
  },
  {
   "cell_type": "markdown",
   "metadata": {},
   "source": [
    "## Plot fits"
   ]
  },
  {
   "cell_type": "code",
   "execution_count": 48,
   "metadata": {},
   "outputs": [
    {
     "data": {
      "text/plain": [
       "0.05921223978815889"
      ]
     },
     "execution_count": 48,
     "metadata": {},
     "output_type": "execute_result"
    }
   ],
   "source": [
    "popt[1]"
   ]
  },
  {
   "cell_type": "code",
   "execution_count": 34,
   "metadata": {},
   "outputs": [
    {
     "data": {
      "text/plain": [
       "465.42944435559184"
      ]
     },
     "execution_count": 34,
     "metadata": {},
     "output_type": "execute_result"
    }
   ],
   "source": [
    "np.sqrt(pcov[0][0])"
   ]
  },
  {
   "cell_type": "code",
   "execution_count": 35,
   "metadata": {},
   "outputs": [
    {
     "data": {
      "text/plain": [
       "0.005574975118016282"
      ]
     },
     "execution_count": 35,
     "metadata": {},
     "output_type": "execute_result"
    }
   ],
   "source": [
    "np.sqrt(pcov[1][1])"
   ]
  },
  {
   "cell_type": "code",
   "execution_count": 39,
   "metadata": {},
   "outputs": [
    {
     "data": {
      "text/plain": [
       "6.465863324069721e-08"
      ]
     },
     "execution_count": 39,
     "metadata": {},
     "output_type": "execute_result"
    }
   ],
   "source": [
    "popt[1]/popt[0]"
   ]
  },
  {
   "cell_type": "code",
   "execution_count": 38,
   "metadata": {},
   "outputs": [
    {
     "data": {
      "text/plain": [
       "3.4296744603344166e-07"
      ]
     },
     "execution_count": 38,
     "metadata": {},
     "output_type": "execute_result"
    }
   ],
   "source": [
    "np.sqrt((pcov[1][1]/popt[0]**2)+(popt[1]**2/popt[0]**4*pcov[0][0]))"
   ]
  },
  {
   "cell_type": "code",
   "execution_count": null,
   "metadata": {},
   "outputs": [],
   "source": []
  }
 ],
 "metadata": {
  "kernelspec": {
   "display_name": "qiskit_env",
   "language": "python",
   "name": "python3"
  },
  "language_info": {
   "codemirror_mode": {
    "name": "ipython",
    "version": 3
   },
   "file_extension": ".py",
   "mimetype": "text/x-python",
   "name": "python",
   "nbconvert_exporter": "python",
   "pygments_lexer": "ipython3",
   "version": "3.10.10"
  },
  "orig_nbformat": 4
 },
 "nbformat": 4,
 "nbformat_minor": 2
}
