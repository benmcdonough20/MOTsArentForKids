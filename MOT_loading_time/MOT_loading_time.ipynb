{
 "cells": [
  {
   "attachments": {},
   "cell_type": "markdown",
   "metadata": {},
   "source": [
    "# Easy data processing\n",
    "Using the `Experiment` and `DataRun` class to generalize processing data. General usage:\n",
    "\n",
    "1. Create an `Experiment`\n",
    "2. Use the `structured_data` method to extract the parameter of interest\n",
    "3. Plot"
   ]
  },
  {
   "cell_type": "code",
   "execution_count": 3,
   "metadata": {},
   "outputs": [],
   "source": [
    "import sys\n",
    "sys.path.append(\"../\")\n",
    "import datarun\n",
    "from matplotlib import pyplot as plt\n",
    "import numpy as np\n",
    "import os\n",
    "from scipy.optimize import curve_fit"
   ]
  },
  {
   "cell_type": "code",
   "execution_count": 4,
   "metadata": {},
   "outputs": [
    {
     "data": {
      "text/plain": [
       "<module 'datarun' from '/home/ben/Documents/Repos/MOTsArentForKids/MOT_loading_time/../datarun.py'>"
      ]
     },
     "execution_count": 4,
     "metadata": {},
     "output_type": "execute_result"
    }
   ],
   "source": [
    "#If you make a change to datarun.py, run this cell or restart your kernel\n",
    "import importlib\n",
    "importlib.reload(datarun)"
   ]
  },
  {
   "cell_type": "code",
   "execution_count": 7,
   "metadata": {},
   "outputs": [
    {
     "name": "stdout",
     "output_type": "stream",
     "text": [
      "|████████████████████████████████████████| 100/100 [100%] in 2:11.1 (0.76/s)    \n"
     ]
    }
   ],
   "source": [
    "d = datarun.Experiment(\n",
    "    vstart = 6,\n",
    "    vend = 15,\n",
    "    vstep = 1, \n",
    "    idx_start = 168,\n",
    "    datapath = \"../data/mar07/mar07/MOT_loading_time\",\n",
    "    numtrials = 10,\n",
    "    mask = .15\n",
    ")"
   ]
  },
  {
   "cell_type": "code",
   "execution_count": 49,
   "metadata": {},
   "outputs": [],
   "source": [
    "font = {'family' : 'normal',\n",
    "        'weight' : 'normal',\n",
    "        'size'   : 20}\n",
    "\n",
    "plt.rc('font', **font)"
   ]
  },
  {
   "cell_type": "code",
   "execution_count": 15,
   "metadata": {},
   "outputs": [],
   "source": [
    "def loading_dyn(x,a,b):\n",
    "    return a/b*(1-np.exp(-x*b))"
   ]
  },
  {
   "cell_type": "code",
   "execution_count": 51,
   "metadata": {},
   "outputs": [
    {
     "name": "stderr",
     "output_type": "stream",
     "text": [
      "findfont: Font family 'normal' not found.\n",
      "findfont: Font family 'normal' not found.\n",
      "findfont: Font family 'normal' not found.\n",
      "findfont: Font family 'normal' not found.\n",
      "findfont: Font family 'normal' not found.\n",
      "findfont: Font family 'normal' not found.\n",
      "findfont: Font family 'normal' not found.\n",
      "findfont: Font family 'normal' not found.\n",
      "findfont: Font family 'normal' not found.\n",
      "findfont: Font family 'normal' not found.\n",
      "findfont: Font family 'normal' not found.\n",
      "findfont: Font family 'normal' not found.\n",
      "findfont: Font family ['normal'] not found. Falling back to DejaVu Sans.\n",
      "findfont: Font family 'normal' not found.\n",
      "findfont: Font family 'normal' not found.\n",
      "findfont: Font family 'normal' not found.\n",
      "findfont: Font family 'normal' not found.\n",
      "findfont: Font family 'normal' not found.\n"
     ]
    },
    {
     "name": "stdout",
     "output_type": "stream",
     "text": [
      "removed\n",
      "removed\n"
     ]
    },
    {
     "name": "stderr",
     "output_type": "stream",
     "text": [
      "findfont: Font family 'normal' not found.\n",
      "findfont: Font family 'normal' not found.\n",
      "findfont: Font family 'normal' not found.\n",
      "findfont: Font family 'normal' not found.\n",
      "findfont: Font family 'normal' not found.\n",
      "findfont: Font family 'normal' not found.\n",
      "findfont: Font family 'normal' not found.\n",
      "findfont: Font family 'normal' not found.\n",
      "findfont: Font family 'normal' not found.\n",
      "findfont: Font family 'normal' not found.\n",
      "findfont: Font family 'normal' not found.\n",
      "findfont: Font family 'normal' not found.\n"
     ]
    },
    {
     "data": {
      "image/png": "[encoded data removed]",
      "text/plain": [
       "<Figure size 700x400 with 1 Axes>"
      ]
     },
     "metadata": {},
     "output_type": "display_data"
    }
   ],
   "source": [
    "N_list = d.structure_data(lambda d: d.atom_number_px_sum())\n",
    "yerr = [np.nanstd(arr) for arr in N_list.values()]/np.sqrt(10)\n",
    "means = [np.mean(arr) for arr in N_list.values()]\n",
    "\n",
    "for arr in N_list.values():\n",
    "    mean = np.mean(arr)\n",
    "    std = np.std(arr)\n",
    "\n",
    "    for val in arr:\n",
    "        if np.abs(val-mean) > 2*std:\n",
    "            arr.remove(val)\n",
    "            print(\"removed\")\n",
    "\n",
    "popt,pcov=curve_fit(loading_dyn, d.vlist, means, p0 = (1e8,1e-1), sigma=yerr, absolute_sigma=True)\n",
    "ratio = popt[0]/popt[1]\n",
    "\n",
    "xdata=np.linspace(min(d.vlist),max(d.vlist),1000)\n",
    "\n",
    "plt.plot(xdata, ratio-loading_dyn(xdata,*popt),'-b', label = r\"$a(1-e^{-bx})$\", linewidth = 5)\n",
    "\n",
    "plt.errorbar(d.vlist, ratio-np.array(means), yerr, linestyle = \"None\", color = \"r\", marker = \".\", label = \"expt.\", elinewidth=6, capsize = 8, capthick = 2)\n",
    "#for datum in d.data:\n",
    "    #plt.scatter(datum.value, ratio-datum.atom_number_px_sum(), color = \"k\", marker = '.', linestyle = \"None\", alpha = .2)\n",
    "\n",
    "plt.xlabel(r\"$t (ms)$\", fontsize=18)\n",
    "plt.ylabel(r\"$N$\", fontsize = 18)\n",
    "plt.yscale(\"log\")\n",
    "plt.gcf().set_size_inches([7,4])\n",
    "plt.savefig(\"../figures/loading_time_1.png\")"
   ]
  },
  {
   "cell_type": "code",
   "execution_count": 52,
   "metadata": {},
   "outputs": [
    {
     "data": {
      "text/plain": [
       "0.10108268541112062"
      ]
     },
     "execution_count": 52,
     "metadata": {},
     "output_type": "execute_result"
    }
   ],
   "source": [
    "popt[1]"
   ]
  },
  {
   "cell_type": "markdown",
   "metadata": {},
   "source": [
    "## Plot fits"
   ]
  },
  {
   "cell_type": "code",
   "execution_count": 35,
   "metadata": {},
   "outputs": [
    {
     "data": {
      "text/plain": [
       "{2.5: <datarun.DataRun at 0x7f87ab9de1d0>,\n",
       " 2.65: <datarun.DataRun at 0x7f87abb661d0>,\n",
       " 2.8: <datarun.DataRun at 0x7f87abba8510>,\n",
       " 2.95: <datarun.DataRun at 0x7f87aa7db610>,\n",
       " 3.1: <datarun.DataRun at 0x7f87abc09850>}"
      ]
     },
     "execution_count": 35,
     "metadata": {},
     "output_type": "execute_result"
    }
   ],
   "source": [
    "runs = d.structure_data()\n",
    "runs"
   ]
  },
  {
   "cell_type": "code",
   "execution_count": 31,
   "metadata": {},
   "outputs": [
    {
     "data": {
      "text/plain": [
       "array([1.79856822e+04, 1.02021614e-01])"
      ]
     },
     "execution_count": 31,
     "metadata": {},
     "output_type": "execute_result"
    }
   ],
   "source": [
    "popt"
   ]
  },
  {
   "cell_type": "code",
   "execution_count": 34,
   "metadata": {},
   "outputs": [
    {
     "data": {
      "text/plain": [
       "465.42944435559184"
      ]
     },
     "execution_count": 34,
     "metadata": {},
     "output_type": "execute_result"
    }
   ],
   "source": [
    "np.sqrt(pcov[0][0])"
   ]
  },
  {
   "cell_type": "code",
   "execution_count": 35,
   "metadata": {},
   "outputs": [
    {
     "data": {
      "text/plain": [
       "0.005574975118016282"
      ]
     },
     "execution_count": 35,
     "metadata": {},
     "output_type": "execute_result"
    }
   ],
   "source": [
    "np.sqrt(pcov[1][1])"
   ]
  },
  {
   "cell_type": "code",
   "execution_count": 38,
   "metadata": {},
   "outputs": [
    {
     "data": {
      "text/plain": [
       "6.977143223923842e-08"
      ]
     },
     "execution_count": 38,
     "metadata": {},
     "output_type": "execute_result"
    }
   ],
   "source": [
    "popt[1]/popt[0]"
   ]
  },
  {
   "cell_type": "code",
   "execution_count": 38,
   "metadata": {},
   "outputs": [
    {
     "data": {
      "text/plain": [
       "3.4296744603344166e-07"
      ]
     },
     "execution_count": 38,
     "metadata": {},
     "output_type": "execute_result"
    }
   ],
   "source": [
    "np.sqrt((pcov[1][1]/popt[0]**2)+(popt[1]**2/popt[0]**4*pcov[0][0]))"
   ]
  }
 ],
 "metadata": {
  "kernelspec": {
   "display_name": "qiskit_env",
   "language": "python",
   "name": "python3"
  },
  "language_info": {
   "codemirror_mode": {
    "name": "ipython",
    "version": 3
   },
   "file_extension": ".py",
   "mimetype": "text/x-python",
   "name": "python",
   "nbconvert_exporter": "python",
   "pygments_lexer": "ipython3",
   "version": "3.10.10"
  },
  "orig_nbformat": 4
 },
 "nbformat": 4,
 "nbformat_minor": 2
}
