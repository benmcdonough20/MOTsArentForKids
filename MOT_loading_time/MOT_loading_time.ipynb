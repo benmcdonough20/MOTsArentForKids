{
 "cells": [
  {
   "attachments": {},
   "cell_type": "markdown",
   "metadata": {},
   "source": [
    "# Easy data processing\n",
    "Using the `Experiment` and `DataRun` class to generalize processing data. General usage:\n",
    "\n",
    "1. Create an `Experiment`\n",
    "2. Use the `structured_data` method to extract the parameter of interest\n",
    "3. Plot"
   ]
  },
  {
   "cell_type": "code",
   "execution_count": 10,
   "metadata": {},
   "outputs": [],
   "source": [
    "import sys\n",
    "sys.path.append(\"../\")\n",
    "import datarun\n",
    "from matplotlib import pyplot as plt\n",
    "import numpy as np\n",
    "import os\n",
    "from scipy.optimize import curve_fit"
   ]
  },
  {
   "cell_type": "code",
   "execution_count": 11,
   "metadata": {},
   "outputs": [
    {
     "data": {
      "text/plain": [
       "<module 'datarun' from '/home/ben/Documents/Repos/MOTsArentForKids/MOT_loading_time/../datarun.py'>"
      ]
     },
     "execution_count": 11,
     "metadata": {},
     "output_type": "execute_result"
    }
   ],
   "source": [
    "#If you make a change to datarun.py, run this cell or restart your kernel\n",
    "import importlib\n",
    "importlib.reload(datarun)"
   ]
  },
  {
   "cell_type": "code",
   "execution_count": 15,
   "metadata": {},
   "outputs": [
    {
     "name": "stdout",
     "output_type": "stream",
     "text": [
      "on 21: Found 2 blobs                                                            \n",
      "|████████████████████████████████████████| 80/80 [100%] in 1:49.6 (0.73/s)      \n"
     ]
    }
   ],
   "source": [
    "d = datarun.Experiment(\n",
    "    vstart = 20,\n",
    "    vend = 80,\n",
    "    vstep = 20, \n",
    "    idx_start = 164,\n",
    "    datapath = \"../data/mar30/load_time/\",\n",
    "    numtrials = 20,\n",
    "    mask = .15\n",
    ")"
   ]
  },
  {
   "cell_type": "code",
   "execution_count": 16,
   "metadata": {},
   "outputs": [],
   "source": [
    "def loading_dyn(x,a,b):\n",
    "    return a/b*(1-np.exp(-x*b))\n",
    "N_list = d.structure_data(lambda d: d.atom_number_px_sum())\n"
   ]
  },
  {
   "cell_type": "code",
   "execution_count": 18,
   "metadata": {},
   "outputs": [
    {
     "data": {
      "text/plain": [
       "<matplotlib.legend.Legend at 0x7fb3a3e08190>"
      ]
     },
     "execution_count": 18,
     "metadata": {},
     "output_type": "execute_result"
    },
    {
     "data": {
      "image/png": "[encoded data removed]",
      "text/plain": [
       "<Figure size 640x480 with 1 Axes>"
      ]
     },
     "metadata": {},
     "output_type": "display_data"
    }
   ],
   "source": [
    "N_list_copy=N_list.copy()\n",
    "stats_dict={key:(np.mean(N_list_copy[key].copy()),np.std(N_list_copy[key].copy())) for key in N_list_copy.keys()}\n",
    "for key,val in N_list.items():\n",
    "    mean = np.mean(val)\n",
    "    stdev = np.std(val)\n",
    "    for item in val:\n",
    "        if np.abs(item-mean) > 2*stdev:\n",
    "            N_list[key].remove(item)\n",
    "            print(\"removed\")\n",
    "    \n",
    "yerr = [np.nanstd(N_list_copy[key]) for key in N_list_copy]/np.sqrt(20)\n",
    "\n",
    "y_plot=[np.nanmean(n) for n in N_list_copy.values()]\n",
    "x_plot=list(N_list_copy.keys())\n",
    "popt,pcov=curve_fit(loading_dyn,x_plot,y_plot, p0 = (1e8,1e-1), sigma=yerr)\n",
    "\n",
    "xdata=np.linspace(min(x_plot),max(x_plot),10000)\n",
    "ydata=loading_dyn(xdata,*popt)\n",
    "\n",
    "plt.plot(xdata,np.array(ydata)*1e-6,'-b', label = r\"$a(1-e^{-bx})$\")\n",
    "\n",
    "plt.errorbar(x_plot, np.array(y_plot)*1.e-6, yerr*1e-6, linestyle = \"None\", color = \"r\", capsize = 10, marker = \"x\", label = \"expt.\")\n",
    "for datum in d.data:\n",
    "    plt.scatter(datum.value, datum.atom_number_px_sum()*1e-6, color = \"k\", marker = '.', linestyle = \"None\")\n",
    "\n",
    "plt.xlabel(r\"$t (ms)$\")\n",
    "plt.ylabel(r\"$N \\times 10^{-6}$\")\n",
    "plt.legend()"
   ]
  },
  {
   "cell_type": "markdown",
   "metadata": {},
   "source": [
    "## Plot fits"
   ]
  },
  {
   "cell_type": "code",
   "execution_count": 35,
   "metadata": {},
   "outputs": [
    {
     "data": {
      "text/plain": [
       "{2.5: <datarun.DataRun at 0x7f87ab9de1d0>,\n",
       " 2.65: <datarun.DataRun at 0x7f87abb661d0>,\n",
       " 2.8: <datarun.DataRun at 0x7f87abba8510>,\n",
       " 2.95: <datarun.DataRun at 0x7f87aa7db610>,\n",
       " 3.1: <datarun.DataRun at 0x7f87abc09850>}"
      ]
     },
     "execution_count": 35,
     "metadata": {},
     "output_type": "execute_result"
    }
   ],
   "source": [
    "runs = d.structure_data()\n",
    "runs"
   ]
  },
  {
   "cell_type": "code",
   "execution_count": 31,
   "metadata": {},
   "outputs": [
    {
     "data": {
      "text/plain": [
       "array([1.79856822e+04, 1.02021614e-01])"
      ]
     },
     "execution_count": 31,
     "metadata": {},
     "output_type": "execute_result"
    }
   ],
   "source": [
    "popt"
   ]
  },
  {
   "cell_type": "code",
   "execution_count": 34,
   "metadata": {},
   "outputs": [
    {
     "data": {
      "text/plain": [
       "465.42944435559184"
      ]
     },
     "execution_count": 34,
     "metadata": {},
     "output_type": "execute_result"
    }
   ],
   "source": [
    "np.sqrt(pcov[0][0])"
   ]
  },
  {
   "cell_type": "code",
   "execution_count": 35,
   "metadata": {},
   "outputs": [
    {
     "data": {
      "text/plain": [
       "0.005574975118016282"
      ]
     },
     "execution_count": 35,
     "metadata": {},
     "output_type": "execute_result"
    }
   ],
   "source": [
    "np.sqrt(pcov[1][1])"
   ]
  },
  {
   "cell_type": "code",
   "execution_count": 37,
   "metadata": {},
   "outputs": [
    {
     "data": {
      "text/plain": [
       "5.672379408046771e-06"
      ]
     },
     "execution_count": 37,
     "metadata": {},
     "output_type": "execute_result"
    }
   ],
   "source": [
    "popt[1]/popt[0]"
   ]
  },
  {
   "cell_type": "code",
   "execution_count": 38,
   "metadata": {},
   "outputs": [
    {
     "data": {
      "text/plain": [
       "3.4296744603344166e-07"
      ]
     },
     "execution_count": 38,
     "metadata": {},
     "output_type": "execute_result"
    }
   ],
   "source": [
    "np.sqrt((pcov[1][1]/popt[0]**2)+(popt[1]**2/popt[0]**4*pcov[0][0]))"
   ]
  }
 ],
 "metadata": {
  "kernelspec": {
   "display_name": "qiskit_env",
   "language": "python",
   "name": "python3"
  },
  "language_info": {
   "codemirror_mode": {
    "name": "ipython",
    "version": 3
   },
   "file_extension": ".py",
   "mimetype": "text/x-python",
   "name": "python",
   "nbconvert_exporter": "python",
   "pygments_lexer": "ipython3",
   "version": "3.10.10"
  },
  "orig_nbformat": 4
 },
 "nbformat": 4,
 "nbformat_minor": 2
}
