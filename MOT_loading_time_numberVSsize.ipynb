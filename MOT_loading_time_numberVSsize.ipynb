{
 "cells": [
  {
   "attachments": {},
   "cell_type": "markdown",
   "metadata": {},
   "source": [
    "# Easy data processing\n",
    "Using the `Experiment` and `DataRun` class to generalize processing data. General usage:\n",
    "\n",
    "1. Create an `Experiment`\n",
    "2. Use the `structured_data` method to extract the parameter of interest\n",
    "3. Plot"
   ]
  },
  {
   "cell_type": "code",
   "execution_count": 1,
   "metadata": {},
   "outputs": [],
   "source": [
    "import datarun\n",
    "from matplotlib import pyplot as plt\n",
    "import numpy as np\n",
    "import os\n",
    "from scipy.optimize import curve_fit"
   ]
  },
  {
   "cell_type": "code",
   "execution_count": 2,
   "metadata": {},
   "outputs": [
    {
     "name": "stdout",
     "output_type": "stream",
     "text": [
      "                                                                                                                        \r"
     ]
    },
    {
     "name": "stderr",
     "output_type": "stream",
     "text": [
      "on 0: /Users/Ruobin/Desktop/YALE/Spring2023/PHYS382L/MOTsArentForKids/datarun.py:159: RuntimeWarning: divide by zero encountered in true_divide\n",
      "        od_arr = np.log(np.divide(I_arr, I0_arr))\n",
      "/Users/Ruobin/Desktop/YALE/Spring2023/PHYS382L/MOTsArentForKids/datarun.py:159: RuntimeWarning: invalid value encountered in true_divide\n",
      "        od_arr = np.log(np.divide(I_arr, I0_arr))\n"
     ]
    },
    {
     "name": "stdout",
     "output_type": "stream",
     "text": [
      "|████████████████████████████████████████| 100/100 [100%] in 2:30.1 (0.66/s)                                            \n"
     ]
    }
   ],
   "source": [
    "numtrials=10\n",
    "d = datarun.Experiment(\n",
    "    vstart = 6,\n",
    "    vend = 15,\n",
    "    vstep = 1, \n",
    "    idx_start = 168,\n",
    "    datapath = os.path.join(os.getcwd(),'MOT_loading_time'),\n",
    "    numtrials = numtrials,\n",
    "    mask=0.1\n",
    ")"
   ]
  },
  {
   "attachments": {},
   "cell_type": "markdown",
   "metadata": {},
   "source": [
    "# LOADING DYNAMICS"
   ]
  },
  {
   "cell_type": "code",
   "execution_count": null,
   "metadata": {},
   "outputs": [],
   "source": [
    "def loading_dyn(x,a,b):\n",
    "    return a/b*(1-np.exp(-x*b))\n",
    "N_list = d.structure_data(lambda d: d.atom_number_px_sum())\n",
    "\n",
    "N_list_copy=N_list.copy()\n",
    "stats_dict={key:(np.mean(N_list_copy[key].copy()),np.std(N_list_copy[key].copy())) for key in N_list_copy.keys()}\n",
    "for key in N_list_copy.keys():\n",
    "    # copy_list=N_list[key].copy()\n",
    "    for i in range(len(N_list_copy[key])):\n",
    "        if N_list_copy[key][i]-2*stats_dict[key][1]>stats_dict[key][0] or N_list_copy[key][i]+2*stats_dict[key][1]<stats_dict[key][0]:\n",
    "            N_list_copy[key][i]=np.nan\n",
    "y_plot=[np.nanmean(n) for n in N_list_copy.values()]\n",
    "x_plot=list(N_list_copy.keys())\n",
    "popt,pcov=curve_fit(loading_dyn,x_plot,y_plot,(1e8,1e-1))\n",
    "print(popt)\n",
    "xfit=np.linspace(min(x_plot),max(x_plot),10000)\n",
    "yfit=loading_dyn(xfit,*popt)\n",
    "plt.plot(xfit,yfit,'-b')\n",
    "plt.plot(x_plot, y_plot, \"xr\")\n",
    "# print([stats_dict[key][1] for key in x_plot])\n",
    "plt.errorbar(x_plot, y_plot, [np.nanstd(N_list_copy[key]) for key in x_plot],ls='none',color='r')\n",
    "for key in N_list_copy.keys():\n",
    "    plt.plot([key]*len(N_list_copy[key]),N_list_copy[key],'.r')"
   ]
  },
  {
   "attachments": {},
   "cell_type": "markdown",
   "metadata": {},
   "source": [
    "# NUM VS WIDTH"
   ]
  },
  {
   "cell_type": "code",
   "execution_count": 7,
   "metadata": {},
   "outputs": [
    {
     "data": {
      "image/png": "[encoded data removed]",
      "text/plain": [
       "<Figure size 640x480 with 1 Axes>"
      ]
     },
     "metadata": {},
     "output_type": "display_data"
    }
   ],
   "source": [
    "plt.figure()\n",
    "plt.plot([0.5*(datum.popt_x[2]+datum.popt_y[2]) for datum in d.data],[datum.atom_number_px_sum() for datum in d.data],'.r')\n",
    "plt.show()"
   ]
  },
  {
   "cell_type": "code",
   "execution_count": null,
   "metadata": {},
   "outputs": [],
   "source": [
    "for datum in d.data:\n",
    "    datum.plot_blob()"
   ]
  },
  {
   "cell_type": "code",
   "execution_count": null,
   "metadata": {},
   "outputs": [],
   "source": []
  }
 ],
 "metadata": {
  "kernelspec": {
   "display_name": "qiskit_env",
   "language": "python",
   "name": "python3"
  },
  "language_info": {
   "codemirror_mode": {
    "name": "ipython",
    "version": 3
   },
   "file_extension": ".py",
   "mimetype": "text/x-python",
   "name": "python",
   "nbconvert_exporter": "python",
   "pygments_lexer": "ipython3",
   "version": "3.8.10"
  },
  "orig_nbformat": 4
 },
 "nbformat": 4,
 "nbformat_minor": 2
}
