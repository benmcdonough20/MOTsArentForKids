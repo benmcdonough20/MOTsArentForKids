{
 "cells": [
  {
   "attachments": {},
   "cell_type": "markdown",
   "metadata": {},
   "source": [
    "# MOT Strength\n",
    "MOT strength was varied from 2.5V to 4V in intervals of .15V at 10 trials apiece."
   ]
  },
  {
   "cell_type": "code",
   "execution_count": 4,
   "metadata": {},
   "outputs": [
    {
     "name": "stdout",
     "output_type": "stream",
     "text": [
      "|█▉                                      | ▄▂▂ 5/110 [5%] in 16s (~5:31, 0.3/s) "
     ]
    }
   ],
   "source": [
    "import importlib\n",
    "import sys\n",
    "sys.path.append(\"../\")\n",
    "import datarun\n",
    "importlib.reload(datarun)\n",
    "\n",
    "data = datarun.Experiment( \n",
    "    mask = .15,\n",
    "    vstart = 2.5, #ind. variable initial value\n",
    "    vend = 4.0, #ind. variable final value\n",
    "    vstep = .15, #ind. variable increment\n",
    "    idx_start = 16, #starting image index\n",
    "    datapath = \"../data/mar09/MOT_current\", #(string) path to folder containing images\n",
    "    numtrials = 10, #number o\n",
    ")\n"
   ]
  }
 ],
 "metadata": {
  "kernelspec": {
   "display_name": "qiskit_env",
   "language": "python",
   "name": "python3"
  },
  "language_info": {
   "codemirror_mode": {
    "name": "ipython",
    "version": 3
   },
   "file_extension": ".py",
   "mimetype": "text/x-python",
   "name": "python",
   "nbconvert_exporter": "python",
   "pygments_lexer": "ipython3",
   "version": "3.11.0"
  },
  "orig_nbformat": 4
 },
 "nbformat": 4,
 "nbformat_minor": 2
}
